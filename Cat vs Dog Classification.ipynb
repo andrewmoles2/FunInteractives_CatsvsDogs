{
 "cells": [
  {
   "cell_type": "markdown",
   "metadata": {},
   "source": [
    "# How can a robot decide whether it sees a cat or a dog?\n"
   ]
  },
  {
   "cell_type": "markdown",
   "metadata": {},
   "source": [
    "Jupyter Notebooks are a fantastic way for us to explore programming concepts interactively. Here we will explore the concept of Image Classification using Machine Learning methods Computer Scientists and Analysts use in research.\n"
   ]
  },
  {
   "cell_type": "markdown",
   "metadata": {},
   "source": [
    "## But first, some tips on how to use this interactive Jupyter Notebook"
   ]
  },
  {
   "cell_type": "markdown",
   "metadata": {},
   "source": [
    "To run each section of code (cell), start by putting your cursor anywhere inside the cell. Then, you have 2 options:\n",
    "\n",
    "- press \"Shift + Enter\" on your keyboars\n",
    "- click the \"Run\" button on the top of this page \n",
    "\n",
    "While the code in the cell is beeing processed, you will see an **asterisk** next to it.\n",
    "When your cell is ready, the asterisk will be replaced by a number. You will now be ready to proceed to the next cell."
   ]
  },
  {
   "cell_type": "markdown",
   "metadata": {},
   "source": [
    "## Using Logistic Regression for image classification"
   ]
  },
  {
   "cell_type": "markdown",
   "metadata": {},
   "source": [
    "A new intern at Happy Paws animal rescue centre forgot to lock all the kennels from the cat and dog subdivisions after feeding them for the night.\n",
    "\n",
    "The next day, when the shelter's employees arrived, they were surprised to find out that all the animals had escaped and were roaming freely in the centre. **Marty, the intern, decided to make up for this mishap by building a robot, Felix, to help put back all pets in their respective kennels.**\n",
    "\n",
    "Marty is a second-year Computer Science student and knows that to train the robot for this task, a huge amount of cat and dog images are required. Thankfully, these types of images are freely available on Kaggle, an online community of data scientists and machine learners.\n",
    "\n",
    "You can have a look at these images at https://www.kaggle.com/c/dogs-vs-cats.\n"
   ]
  },
  {
   "cell_type": "markdown",
   "metadata": {},
   "source": [
    "\n",
    "<img src=\"https://i.imgur.com/KbkyNlE.png\" style=\"height:350px\">\n",
    "\n",
    "<div>Credits: Image made using icons by <a href=\"https://www.flaticon.com/authors/smashicons\" title=\"Smashicons\">Smashicons</a> and <a href=\"https://www.flaticon.com/authors/freepik\" title=\"Freepik\">Freepik</a> from <a href=\"https://www.flaticon.com/\" title=\"Flaticon\">www.flaticon.com</a></div>\n",
    "\n"
   ]
  },
  {
   "cell_type": "markdown",
   "metadata": {},
   "source": [
    "## How do computers \"see\" images?"
   ]
  },
  {
   "cell_type": "markdown",
   "metadata": {},
   "source": [
    "<img src=\"https://i.imgur.com/aDtRM6j.png\" style=\"height:350px\">\n",
    "\n",
    "\n",
    "<div>Original Totoro Credits: pattern image taken from <a href=\"https://kandipatterns.com\" title=\"Kandipatterns\">Kandipatterns</a> </a></div>\n",
    "\n"
   ]
  },
  {
   "cell_type": "markdown",
   "metadata": {},
   "source": [
    "Digital images are stored as a **combination of pixels** made up of a number of different channels. Grayscale images have only one channel, whereas coloured images, have three channels: **red (R), green (G) and blue (B)**. These channels are typically represented by values between 0 and 255 **or** between 0 and 1 depending on how the platform and libraries you are using operate.\n",
    "\n",
    "<img src=\"https://i.imgur.com/xS13u7p.png\" style=\"height:350px\">"
   ]
  },
  {
   "cell_type": "markdown",
   "metadata": {},
   "source": [
    "As humans need to be trained to perform a particular skill, computers need to train the machine learning model as well.\n",
    "\n",
    "In both cases, training happens using examples. Similar to how you can teach somebody to identify a cat, you can teach your model how to identify a cat in an image by giving **several example images that contain the animal**. \n",
    "\n",
    "From these example images, the model learns features of the cat. These **features** can be related to its shape, color, proportions, etc. \n",
    "\n",
    "Now when a new image of a cat is presented to this computer with the trained model, it can use what it had learned earlier and identify that this new image also contains a cat.\n",
    "\n",
    "**In this interactive Notebook we will use Logistic Regression to create and train a model that will help us differentiate cat images from dog images.**"
   ]
  },
  {
   "cell_type": "markdown",
   "metadata": {},
   "source": [
    "## Preparing your tools\n",
    "\n",
    "Before starting to prepare a model for our robot we need to make sure we have all the tools we need. In the next code chunk, we import some important Python libraries that will help us program the robot. This is where the ```import```function comes in handy.\n",
    "\n",
    "This is our first bit of code (cell) to run. You don’t need to read or understand the code, but if you know some Python, you might be able to understand what the code says. To run the code, put your cursor anywhere inside the shaded box and hit SHIFT + ENTER. \n",
    "\n",
    "**Don’t forget – In  [*]: means the code is running and In [1] will mean the code is done and you can move to the next cell or section of text.**"
   ]
  },
  {
   "cell_type": "code",
   "execution_count": null,
   "metadata": {},
   "outputs": [],
   "source": [
    "# Makes sure your Python environment has the packages we'll need to run this notebook\n",
    "!pip install --user numpy pandas scikit-image"
   ]
  },
  {
   "cell_type": "code",
   "execution_count": null,
   "metadata": {},
   "outputs": [],
   "source": [
    "# Importing libraries\n",
    "import os, itertools \n",
    "import numpy as np \n",
    "import pandas as pd\n",
    "\n",
    "from skimage.transform import resize\n",
    " \n",
    "import matplotlib.pyplot as plt \n",
    "%matplotlib inline\n",
    "\n",
    "import pathlib\n",
    "import pickle\n"
   ]
  },
  {
   "cell_type": "markdown",
   "metadata": {},
   "source": [
    "## Preparing and Pre-processing image data for training and testing"
   ]
  },
  {
   "cell_type": "markdown",
   "metadata": {},
   "source": [
    "<img src=\"https://i.imgur.com/tOFyQnn.jpg\" style=\"height:300px\">\n",
    "\n",
    "\n"
   ]
  },
  {
   "cell_type": "code",
   "execution_count": null,
   "metadata": {},
   "outputs": [],
   "source": [
    "TRAIN_DIR = './train/'\n",
    "TEST_DIR = './test1/'\n",
    "ROWS = 64\n",
    "COLS = 64\n",
    "CHANNELS = 3"
   ]
  },
  {
   "cell_type": "code",
   "execution_count": null,
   "metadata": {},
   "outputs": [],
   "source": [
    "train_images = [TRAIN_DIR+i for i in os.listdir(TRAIN_DIR)]\n",
    "test_images = [TEST_DIR+i for i in os.listdir(TEST_DIR)]"
   ]
  },
  {
   "cell_type": "markdown",
   "metadata": {},
   "source": [
    "Here, we create a function ```read_image``` that allows our computer to read the images. "
   ]
  },
  {
   "cell_type": "code",
   "execution_count": null,
   "metadata": {},
   "outputs": [],
   "source": [
    "def read_image(file_path):\n",
    "  img = plt.imread(file_path)\n",
    "  return resize(img, (ROWS, COLS))"
   ]
  },
  {
   "cell_type": "markdown",
   "metadata": {},
   "source": [
    "Next, we create another function, ```prep_data```,  that will help us code both training and test datasets."
   ]
  },
  {
   "cell_type": "code",
   "execution_count": null,
   "metadata": {},
   "outputs": [],
   "source": [
    "def prep_data(images):\n",
    "  m = len(images)\n",
    "  n_x = ROWS*COLS*CHANNELS\n",
    "  X = np.ndarray((n_x, m))\n",
    "  y = np.zeros((1, m), dtype=np.uint8)\n",
    "  print(\"X.shape is {}\".format(X.shape))\n",
    "  \n",
    "  for i,image_file in enumerate(images) :\n",
    "    image = read_image(image_file)\n",
    "    X[:,i] = np.squeeze(image.reshape((n_x,1)))\n",
    "    if 'dog' in image_file.lower() :\n",
    "      y[0,i] = 1\n",
    "    elif 'cat' in image_file.lower() :\n",
    "      y[0,i] = 0\n",
    "    else : # for test data\n",
    "      y[0,i] = image_file.split('/')[-1].split('.')[0]\n",
    "      \n",
    "    if i%5000 == 0 :\n",
    "      print(\"Proceed {} of {}\".format(i, m))\n",
    "    \n",
    "  return X,y"
   ]
  },
  {
   "cell_type": "markdown",
   "metadata": {},
   "source": [
    "We are ready to run our new function while also getting updates on our progress."
   ]
  },
  {
   "cell_type": "code",
   "execution_count": null,
   "metadata": {},
   "outputs": [],
   "source": [
    "X_train, y_train = prep_data(train_images[:200])  # We will load a pre-trained model later, so only load 200 examples for investigation\n",
    "X_test, test_idx = prep_data(test_images)"
   ]
  },
  {
   "cell_type": "code",
   "execution_count": null,
   "metadata": {},
   "outputs": [],
   "source": [
    "print(\"Train shape: {}\".format(X_train.shape))\n",
    "print(\"Test shape: {}\".format(X_test.shape))"
   ]
  },
  {
   "cell_type": "markdown",
   "metadata": {},
   "source": [
    "### Defining class codes "
   ]
  },
  {
   "cell_type": "markdown",
   "metadata": {},
   "source": [
    "In this block, we tell our robot that **0s correspond to cats and 1s to dogs**. This is a key step as it will make it easier for our robot to communicate its results to us."
   ]
  },
  {
   "cell_type": "code",
   "execution_count": null,
   "metadata": {},
   "outputs": [],
   "source": [
    "classes = {\n",
    "    0: 'cat',\n",
    "    1: 'dog'\n",
    "}"
   ]
  },
  {
   "cell_type": "markdown",
   "metadata": {},
   "source": [
    "We create a function called ```show_images``` which will collect an image and its label and return it to us for inspection."
   ]
  },
  {
   "cell_type": "code",
   "execution_count": null,
   "metadata": {},
   "outputs": [],
   "source": [
    "def show_images(X, y, idx) :\n",
    "  image = X[idx]\n",
    "  image = image.reshape((ROWS, COLS, CHANNELS))\n",
    "  plt.figure(figsize=(6,4))\n",
    "  plt.imshow(image)\n",
    "  plt.title(\"This is a {}!\".format(classes[y[idx,0]]))\n",
    "  plt.show()"
   ]
  },
  {
   "cell_type": "markdown",
   "metadata": {},
   "source": [
    "### Let's take a look at a sample image from the training set"
   ]
  },
  {
   "cell_type": "markdown",
   "metadata": {},
   "source": [
    "Here we use our newly created function ```show_images``` to take a look at a sample of our training images. You can change change the index argument (the number) to have a look at a different picture. There is a total of 25000 pictures, though for this demo we have limited it to 200) so this number can be anything from **0 to 199**. This is because Python starts counting from 0. \n",
    "\n",
    "**Give it a try!** "
   ]
  },
  {
   "cell_type": "code",
   "execution_count": null,
   "metadata": {},
   "outputs": [],
   "source": [
    "show_images(X_train.T, y_train.T, 2)"
   ]
  },
  {
   "cell_type": "markdown",
   "metadata": {},
   "source": [
    "## Teaching our robot to group images using Logistic Regression"
   ]
  },
  {
   "cell_type": "markdown",
   "metadata": {},
   "source": [
    "### What is Logistic Regression and how can it help us in this task?"
   ]
  },
  {
   "cell_type": "markdown",
   "metadata": {},
   "source": [
    "Logistic regression is a statistical model that in its basic form uses a logistic function to model a binary dependent variable. This means that the input can be any number of numerical variables and the **output is binary**, for example, True or False, 0 or 1, Group A or Group B. This is why Logistic Regression can be particularly suitable here since we are trying to separate our pictures into **Cats or Dogs**.\n",
    "\n",
    "For this activity, we are using functions from the very popular Machine Learning Python library scikit learn, often abreviated to ```sklearn```. In the code below, we use the function ```LogisticRegressionCV()``` which is helping us create the model."
   ]
  },
  {
   "cell_type": "code",
   "execution_count": null,
   "metadata": {},
   "outputs": [],
   "source": [
    "# Prepare the data into the format that the scikit-learn classifier expects\n",
    "X_train_lr, y_train_lr = X_train.T, y_train.T.ravel()"
   ]
  },
  {
   "cell_type": "markdown",
   "metadata": {},
   "source": [
    "**We are now ready to make all the magic happen!** Since the training dataset is huge, creating the model takes a lot of time and requires a powerful computer. The chunk of code required to do so is the following:\n",
    "\n",
    "```python\n",
    "# Here we import the library that containg our Logistic Regression function\n",
    "from sklearn.linear_model import LogisticRegressionCV\n",
    "\n",
    "# Here we assign the function to variable name we can call conveniently later on in out code \n",
    "clf = LogisticRegressionCV()\n",
    "\n",
    "# Now fit (train) the model on this data\n",
    "clf.fit(X_train_lr, y_train_lr)\n",
    "```\n",
    "\n",
    "To avoid overwelming your device, we trained Felix for you and stored the model in a `pickle` using Python's `pickle` module.\n",
    "A pickle allows Computer Scientists and Analysts to store complex models convenienlty to re-use later. \n",
    "\n",
    "<img src=\"https://nourishedkitchen.com/wp-content/uploads/2017/07/sour-pickles-post.jpg\" style=\"height:300px\"> \n",
    "\n",
    "In the next step we are ready to unpickle our work and store it under `loaded_model` to try it on our test dataset!\n",
    "\n",
    "Note: Jupyter and Python like to warn us about potential issues that might manifest in the future. After running the next cell you will notice a wanrning. Do not worry about it, this is Jupyter's way of ensuring we know where to look if something goes wrong."
   ]
  },
  {
   "cell_type": "code",
   "execution_count": null,
   "metadata": {},
   "outputs": [],
   "source": [
    "loaded_model = pickle.load(open('finalized_pet_model.pickle', 'rb'))"
   ]
  },
  {
   "cell_type": "markdown",
   "metadata": {},
   "source": [
    "Here we can check how good Felix is at predicting images from the training folder but the real challenge will be to  correctly identify the test images. We will test that later."
   ]
  },
  {
   "cell_type": "code",
   "execution_count": null,
   "metadata": {},
   "outputs": [],
   "source": [
    "print(\"Model accuracy estimated at: {:.2f}%\".format(loaded_model.score(X_train_lr, y_train_lr)*100))"
   ]
  },
  {
   "cell_type": "markdown",
   "metadata": {},
   "source": [
    "### Congratulations! You just trained your first image classification model!\n",
    "\n",
    "A model accuracy near  70% means that out of 10 predictions you are likely to get 7 correct ones. Luckily, ```sklearn``` has a special function to help us get that number so we do not have to calculate it for ourselves."
   ]
  },
  {
   "cell_type": "markdown",
   "metadata": {},
   "source": [
    "## Testing your new model! \n",
    "### Can your robot accurately predict if this new image is from a Cat or a Dog?"
   ]
  },
  {
   "cell_type": "code",
   "execution_count": null,
   "metadata": {},
   "outputs": [],
   "source": [
    "def show_image_prediction(X, idx, model) :\n",
    "  image = X[idx].reshape(1,-1)\n",
    "  image_class = classes[model.predict(image).item()]\n",
    "  image = image.reshape((ROWS, COLS, CHANNELS))\n",
    "  plt.figure(figsize = (4,2))\n",
    "  plt.imshow(image)\n",
    "  plt.title(\"Test {} : I think this is a {}!\".format(idx, image_class))\n",
    "  plt.show()"
   ]
  },
  {
   "cell_type": "markdown",
   "metadata": {},
   "source": [
    "### Let's have a look at a selection of test samples - are predictions correct?\n",
    "\n",
    "The next bit of code randomly samples 10 images from the test images and applies the model. Everytime you run it, you get a new random assortment of test animals. Try it! Maybe you will spot the picture of the dog with the bunny ears."
   ]
  },
  {
   "cell_type": "code",
   "execution_count": null,
   "metadata": {},
   "outputs": [],
   "source": [
    "X_test_lr, test_idx = X_test.T, test_idx.T\n",
    "\n",
    "for i in np.random.randint(0, len(X_test_lr), 10) :\n",
    "  show_image_prediction(X_test_lr, i, loaded_model)"
   ]
  },
  {
   "cell_type": "markdown",
   "metadata": {},
   "source": [
    "## Discussion Point:\n",
    "### How can we improve performance?\n",
    "\n",
    "Can you think of ways to improve how well the robot differentiates between the two types of animals?\n"
   ]
  },
  {
   "cell_type": "markdown",
   "metadata": {},
   "source": [
    "## Bonus Activity: Try it on your own pets!\n",
    "\n",
    "### My family's pets\n",
    "\n",
    "In this section, I will show you how to run the model on your own pictures. If the robot encountered your pets in the wild? Would it be able to tell the cats and dogs apart?\n",
    "\n",
    "In folder **test2**, I include some of my family pets. If you would like you can upload your own pets [here](https://drive.google.com/drive/folders/1bQQVApEfpok2CiiJ8_-eeeGTxRHjw2Zm?usp=sharing) and we will include them in test2 as well.  **test2** will be updated **every day at midnight**. \n",
    "\n",
    "Come back the next morning to see if Felix was able to sort your animals correctly!\n",
    "\n",
    "Note that Kevin's picture was taken many years ago with my first phone camera (a Nokia 3200!). **Will the model still be able to make an accurate prediction?**\n",
    "\n",
    "<img src=\"https://i.imgur.com/0HfdDc3.jpg\" style=\"height:150\"> \n",
    "\n"
   ]
  },
  {
   "cell_type": "markdown",
   "metadata": {},
   "source": [
    "Note: To see updates in the folder you will have to refresh Binder every time you reconnect to it."
   ]
  },
  {
   "cell_type": "code",
   "execution_count": null,
   "metadata": {},
   "outputs": [],
   "source": [
    "# Prepare new test directory pointing to folder test2\n",
    "TEST_DIR2 = './test2/'\n",
    "test_images2 = [TEST_DIR2+i for i in os.listdir(TEST_DIR2)]\n",
    "\n",
    "# Process data from the new pet images folder\n",
    "X_test2, test2_idx = prep_data(test_images2)\n",
    "\n",
    "# Inspect processed dataset\n",
    "print(\"Test shape2: {}\".format(X_test2.shape))"
   ]
  },
  {
   "cell_type": "markdown",
   "metadata": {},
   "source": [
    "Since we select images from the folder randomly, you will notice that the same animals can come back in the same sample. Keep running this cell to discover new animals and items!\n",
    "\n",
    "Note: To see updates in the folder you will have to refresh Binder every time you reconnect to it."
   ]
  },
  {
   "cell_type": "code",
   "execution_count": null,
   "metadata": {},
   "outputs": [],
   "source": [
    "# Run model on new pet data\n",
    "X_test2_lr, test2_idx = X_test2.T, test2_idx.T\n",
    "\n",
    "\n",
    "# Show samples from new tests\n",
    "for i in np.random.randint(0, len(X_test2_lr), 10) :\n",
    "  show_image_prediction(X_test2_lr, i, loaded_model)"
   ]
  },
  {
   "cell_type": "markdown",
   "metadata": {},
   "source": [
    "## Discussion Point:\n",
    "\n",
    "### What kind of mistakes does Felix make? Can you spot any biases for any specific characteristics?"
   ]
  },
  {
   "cell_type": "markdown",
   "metadata": {},
   "source": [
    "## Next Steps\n",
    "\n",
    "If you would like to learn more about building your own models, here are some more resources!\n",
    "\n",
    "[Microsoft's Intro to AI course](https://courses.digitalskills.lse.ac.uk/courses/course-v1:Microsoft+DAT263x+LSE100_LT20/about)"
   ]
  },
  {
   "cell_type": "markdown",
   "metadata": {},
   "source": [
    "\n",
    "\n",
    "\n",
    "<img src=\"https://i.imgur.com/lG7IrxX.png\" style=\"height:300px\"> \n"
   ]
  }
 ],
 "metadata": {
  "kernel_info": {
   "name": "python3"
  },
  "kernelspec": {
   "display_name": "Python 3",
   "language": "python",
   "name": "python3"
  },
  "language_info": {
   "codemirror_mode": {
    "name": "ipython",
    "version": 3
   },
   "file_extension": ".py",
   "mimetype": "text/x-python",
   "name": "python",
   "nbconvert_exporter": "python",
   "pygments_lexer": "ipython3",
   "version": "3.7.3"
  },
  "nteract": {
   "version": "0.15.0"
  }
 },
 "nbformat": 4,
 "nbformat_minor": 4
}
